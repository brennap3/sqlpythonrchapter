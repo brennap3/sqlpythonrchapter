{
    "cells": [
        {
            "cell_type": "code",
            "execution_count": 2,
            "source": [
                "import pandas as pd"
            ],
            "outputs": [],
            "metadata": {}
        },
        {
            "cell_type": "code",
            "execution_count": 2,
            "source": [
                "df = pd.DataFrame(\r\n",
                "    [[1, 'foo'], [2, 'bar'], [3, 'baz']], columns=['value', 'id'])"
            ],
            "outputs": [],
            "metadata": {}
        },
        {
            "cell_type": "code",
            "execution_count": 3,
            "source": [
                "df.head(2)"
            ],
            "outputs": [
                {
                    "output_type": "execute_result",
                    "data": {
                        "text/plain": [
                            "   value   id\n",
                            "0      1  foo\n",
                            "1      2  bar"
                        ],
                        "text/html": [
                            "<div>\n",
                            "<style scoped>\n",
                            "    .dataframe tbody tr th:only-of-type {\n",
                            "        vertical-align: middle;\n",
                            "    }\n",
                            "\n",
                            "    .dataframe tbody tr th {\n",
                            "        vertical-align: top;\n",
                            "    }\n",
                            "\n",
                            "    .dataframe thead th {\n",
                            "        text-align: right;\n",
                            "    }\n",
                            "</style>\n",
                            "<table border=\"1\" class=\"dataframe\">\n",
                            "  <thead>\n",
                            "    <tr style=\"text-align: right;\">\n",
                            "      <th></th>\n",
                            "      <th>value</th>\n",
                            "      <th>id</th>\n",
                            "    </tr>\n",
                            "  </thead>\n",
                            "  <tbody>\n",
                            "    <tr>\n",
                            "      <th>0</th>\n",
                            "      <td>1</td>\n",
                            "      <td>foo</td>\n",
                            "    </tr>\n",
                            "    <tr>\n",
                            "      <th>1</th>\n",
                            "      <td>2</td>\n",
                            "      <td>bar</td>\n",
                            "    </tr>\n",
                            "  </tbody>\n",
                            "</table>\n",
                            "</div>"
                        ]
                    },
                    "metadata": {},
                    "execution_count": 3
                }
            ],
            "metadata": {}
        },
        {
            "cell_type": "code",
            "execution_count": 4,
            "source": [
                "df[df['id'].isin(['foo','bar'])]"
            ],
            "outputs": [
                {
                    "output_type": "execute_result",
                    "data": {
                        "text/plain": [
                            "   value   id\n",
                            "0      1  foo\n",
                            "1      2  bar"
                        ],
                        "text/html": [
                            "<div>\n",
                            "<style scoped>\n",
                            "    .dataframe tbody tr th:only-of-type {\n",
                            "        vertical-align: middle;\n",
                            "    }\n",
                            "\n",
                            "    .dataframe tbody tr th {\n",
                            "        vertical-align: top;\n",
                            "    }\n",
                            "\n",
                            "    .dataframe thead th {\n",
                            "        text-align: right;\n",
                            "    }\n",
                            "</style>\n",
                            "<table border=\"1\" class=\"dataframe\">\n",
                            "  <thead>\n",
                            "    <tr style=\"text-align: right;\">\n",
                            "      <th></th>\n",
                            "      <th>value</th>\n",
                            "      <th>id</th>\n",
                            "    </tr>\n",
                            "  </thead>\n",
                            "  <tbody>\n",
                            "    <tr>\n",
                            "      <th>0</th>\n",
                            "      <td>1</td>\n",
                            "      <td>foo</td>\n",
                            "    </tr>\n",
                            "    <tr>\n",
                            "      <th>1</th>\n",
                            "      <td>2</td>\n",
                            "      <td>bar</td>\n",
                            "    </tr>\n",
                            "  </tbody>\n",
                            "</table>\n",
                            "</div>"
                        ]
                    },
                    "metadata": {},
                    "execution_count": 4
                }
            ],
            "metadata": {}
        },
        {
            "cell_type": "code",
            "execution_count": 5,
            "source": [
                "df[(df['id'].isin(['foo','bar'])) & (df['value'].isin([1]))]"
            ],
            "outputs": [
                {
                    "output_type": "execute_result",
                    "data": {
                        "text/plain": [
                            "   value   id\n",
                            "0      1  foo"
                        ],
                        "text/html": [
                            "<div>\n",
                            "<style scoped>\n",
                            "    .dataframe tbody tr th:only-of-type {\n",
                            "        vertical-align: middle;\n",
                            "    }\n",
                            "\n",
                            "    .dataframe tbody tr th {\n",
                            "        vertical-align: top;\n",
                            "    }\n",
                            "\n",
                            "    .dataframe thead th {\n",
                            "        text-align: right;\n",
                            "    }\n",
                            "</style>\n",
                            "<table border=\"1\" class=\"dataframe\">\n",
                            "  <thead>\n",
                            "    <tr style=\"text-align: right;\">\n",
                            "      <th></th>\n",
                            "      <th>value</th>\n",
                            "      <th>id</th>\n",
                            "    </tr>\n",
                            "  </thead>\n",
                            "  <tbody>\n",
                            "    <tr>\n",
                            "      <th>0</th>\n",
                            "      <td>1</td>\n",
                            "      <td>foo</td>\n",
                            "    </tr>\n",
                            "  </tbody>\n",
                            "</table>\n",
                            "</div>"
                        ]
                    },
                    "metadata": {},
                    "execution_count": 5
                }
            ],
            "metadata": {}
        },
        {
            "cell_type": "code",
            "execution_count": 6,
            "source": [
                "df[(df['id'].isin(['foo','bar'])) & (df['value'] >= 1)]"
            ],
            "outputs": [
                {
                    "output_type": "execute_result",
                    "data": {
                        "text/plain": [
                            "   value   id\n",
                            "0      1  foo\n",
                            "1      2  bar"
                        ],
                        "text/html": [
                            "<div>\n",
                            "<style scoped>\n",
                            "    .dataframe tbody tr th:only-of-type {\n",
                            "        vertical-align: middle;\n",
                            "    }\n",
                            "\n",
                            "    .dataframe tbody tr th {\n",
                            "        vertical-align: top;\n",
                            "    }\n",
                            "\n",
                            "    .dataframe thead th {\n",
                            "        text-align: right;\n",
                            "    }\n",
                            "</style>\n",
                            "<table border=\"1\" class=\"dataframe\">\n",
                            "  <thead>\n",
                            "    <tr style=\"text-align: right;\">\n",
                            "      <th></th>\n",
                            "      <th>value</th>\n",
                            "      <th>id</th>\n",
                            "    </tr>\n",
                            "  </thead>\n",
                            "  <tbody>\n",
                            "    <tr>\n",
                            "      <th>0</th>\n",
                            "      <td>1</td>\n",
                            "      <td>foo</td>\n",
                            "    </tr>\n",
                            "    <tr>\n",
                            "      <th>1</th>\n",
                            "      <td>2</td>\n",
                            "      <td>bar</td>\n",
                            "    </tr>\n",
                            "  </tbody>\n",
                            "</table>\n",
                            "</div>"
                        ]
                    },
                    "metadata": {},
                    "execution_count": 6
                }
            ],
            "metadata": {}
        },
        {
            "cell_type": "code",
            "execution_count": 9,
            "source": [
                "df[(df['id'].isin(['foo','bar'])) & (df['value'] >= 1)].groupby('id')['value'].sum()"
            ],
            "outputs": [
                {
                    "output_type": "execute_result",
                    "data": {
                        "text/plain": [
                            "id\n",
                            "bar    2\n",
                            "foo    1\n",
                            "Name: value, dtype: int64"
                        ]
                    },
                    "metadata": {},
                    "execution_count": 9
                }
            ],
            "metadata": {}
        },
        {
            "cell_type": "code",
            "execution_count": 10,
            "source": [
                "## aggregate different column\r\n",
                "df = pd.DataFrame({'team': ['A', 'B', 'B', 'B', 'B', 'M', 'M', 'M'],\r\n",
                "                   'position': ['G', 'G', 'F', 'G', 'F', 'F', 'C', 'C'],\r\n",
                "                   'assists': [5, 7, 7, 8, 5, 7, 6, 9],\r\n",
                "                   'rebounds': [11, 8, 10, 6, 6, 9, 6, 10]})"
            ],
            "outputs": [],
            "metadata": {}
        },
        {
            "cell_type": "code",
            "execution_count": 11,
            "source": [
                "new = df.groupby(['team', 'position']).agg({'assists': ['mean']}).reset_index()\r\n",
                "\r\n",
                "#rename columns \r\n",
                "new.columns = ['team', 'pos', 'mean_assists']\r\n"
            ],
            "outputs": [],
            "metadata": {}
        },
        {
            "cell_type": "code",
            "execution_count": 12,
            "source": [
                "print(new)"
            ],
            "outputs": [
                {
                    "output_type": "stream",
                    "name": "stdout",
                    "text": [
                        "  team pos  mean_assists\n",
                        "0    A   G           5.0\n",
                        "1    B   F           6.0\n",
                        "2    B   G           7.5\n",
                        "3    M   C           7.5\n",
                        "4    M   F           7.0\n"
                    ]
                }
            ],
            "metadata": {}
        },
        {
            "cell_type": "code",
            "execution_count": 15,
            "source": [
                "new= df.groupby(['team', 'position']).agg({'rebounds': ['median', 'max']}).reset_index()\r\n",
                "new.columns = ['team', 'pos', 'median_rebounds','max_rebounds']"
            ],
            "outputs": [],
            "metadata": {}
        },
        {
            "cell_type": "code",
            "execution_count": 16,
            "source": [
                "print(new)"
            ],
            "outputs": [
                {
                    "output_type": "stream",
                    "name": "stdout",
                    "text": [
                        "  team pos  median_rebounds  max_rebounds\n",
                        "0    A   G               11            11\n",
                        "1    B   F                8            10\n",
                        "2    B   G                7             8\n",
                        "3    M   C                8            10\n",
                        "4    M   F                9             9\n"
                    ]
                }
            ],
            "metadata": {}
        },
        {
            "cell_type": "code",
            "execution_count": 17,
            "source": [
                "new= df.groupby(['team', 'position']).agg({'rebounds': ['median', 'max'], 'assists': ['mean','median']}).reset_index()"
            ],
            "outputs": [],
            "metadata": {}
        },
        {
            "cell_type": "code",
            "execution_count": 18,
            "source": [
                "print(new)"
            ],
            "outputs": [
                {
                    "output_type": "stream",
                    "name": "stdout",
                    "text": [
                        "  team position rebounds     assists       \n",
                        "                  median max    mean median\n",
                        "0    A        G       11  11     5.0    5.0\n",
                        "1    B        F        8  10     6.0    6.0\n",
                        "2    B        G        7   8     7.5    7.5\n",
                        "3    M        C        8  10     7.5    7.5\n",
                        "4    M        F        9   9     7.0    7.0\n"
                    ]
                }
            ],
            "metadata": {}
        },
        {
            "cell_type": "code",
            "execution_count": 19,
            "source": [
                "times = ['2020-01-01', '2020-01-03', '2020-01-04', '2020-01-05', '2020-01-29']\r\n",
                "s = pd.Series(range(5), index=pd.DatetimeIndex(times))"
            ],
            "outputs": [],
            "metadata": {}
        },
        {
            "cell_type": "code",
            "execution_count": 21,
            "source": [
                "s"
            ],
            "outputs": [
                {
                    "output_type": "execute_result",
                    "data": {
                        "text/plain": [
                            "2020-01-01    0\n",
                            "2020-01-03    1\n",
                            "2020-01-04    2\n",
                            "2020-01-05    3\n",
                            "2020-01-29    4\n",
                            "dtype: int64"
                        ]
                    },
                    "metadata": {},
                    "execution_count": 21
                }
            ],
            "metadata": {}
        },
        {
            "cell_type": "code",
            "execution_count": 20,
            "source": [
                "s.rolling(window=2).sum()"
            ],
            "outputs": [
                {
                    "output_type": "execute_result",
                    "data": {
                        "text/plain": [
                            "2020-01-01    NaN\n",
                            "2020-01-03    1.0\n",
                            "2020-01-04    3.0\n",
                            "2020-01-05    5.0\n",
                            "2020-01-29    7.0\n",
                            "dtype: float64"
                        ]
                    },
                    "metadata": {},
                    "execution_count": 20
                }
            ],
            "metadata": {}
        },
        {
            "cell_type": "code",
            "execution_count": 22,
            "source": [
                "df = pd.DataFrame(\r\n",
                "    {\"x\": 1},\r\n",
                "    index=[\r\n",
                "        pd.Timestamp(\"20130101 09:00:01\"),\r\n",
                "        pd.Timestamp(\"20130101 09:00:02\"),\r\n",
                "        pd.Timestamp(\"20130101 09:00:03\"),\r\n",
                "        pd.Timestamp(\"20130101 09:00:04\"),\r\n",
                "        pd.Timestamp(\"20130101 09:00:06\"),\r\n",
                "    ],\r\n",
                ")"
            ],
            "outputs": [],
            "metadata": {}
        },
        {
            "cell_type": "code",
            "execution_count": 27,
            "source": [
                "df[\"right\"] = df.rolling(\"2s\", closed=\"right\").x.sum()  # default\r\n",
                "print(df)"
            ],
            "outputs": [
                {
                    "output_type": "stream",
                    "name": "stdout",
                    "text": [
                        "                     x  right\n",
                        "2013-01-01 09:00:01  1    1.0\n",
                        "2013-01-01 09:00:02  1    2.0\n",
                        "2013-01-01 09:00:03  1    2.0\n",
                        "2013-01-01 09:00:04  1    2.0\n",
                        "2013-01-01 09:00:06  1    1.0\n"
                    ]
                }
            ],
            "metadata": {}
        },
        {
            "cell_type": "code",
            "execution_count": 28,
            "source": [
                "df[\"left\"] = df.rolling(\"2s\", closed=\"left\").x.sum()  # default\r\n",
                "print(df)"
            ],
            "outputs": [
                {
                    "output_type": "stream",
                    "name": "stdout",
                    "text": [
                        "                     x  right  left\n",
                        "2013-01-01 09:00:01  1    1.0   NaN\n",
                        "2013-01-01 09:00:02  1    2.0   1.0\n",
                        "2013-01-01 09:00:03  1    2.0   2.0\n",
                        "2013-01-01 09:00:04  1    2.0   2.0\n",
                        "2013-01-01 09:00:06  1    1.0   1.0\n"
                    ]
                }
            ],
            "metadata": {}
        },
        {
            "cell_type": "code",
            "execution_count": 29,
            "source": [
                "df = pd.DataFrame(\r\n",
                "    {\"A\": [0, 1, 2, 3, 4]}, index=pd.date_range(\"2020\", periods=5, freq=\"1D\")\r\n",
                ")"
            ],
            "outputs": [],
            "metadata": {}
        },
        {
            "cell_type": "code",
            "execution_count": 30,
            "source": [
                "print(df)"
            ],
            "outputs": [
                {
                    "output_type": "stream",
                    "name": "stdout",
                    "text": [
                        "            A\n",
                        "2020-01-01  0\n",
                        "2020-01-02  1\n",
                        "2020-01-03  2\n",
                        "2020-01-04  3\n",
                        "2020-01-05  4\n"
                    ]
                }
            ],
            "metadata": {}
        },
        {
            "cell_type": "code",
            "execution_count": 37,
            "source": [
                "df.rolling(\"2D\").mean()"
            ],
            "outputs": [
                {
                    "output_type": "execute_result",
                    "data": {
                        "text/plain": [
                            "              A\n",
                            "2020-01-01  0.0\n",
                            "2020-01-02  0.5\n",
                            "2020-01-03  1.5\n",
                            "2020-01-04  2.5\n",
                            "2020-01-05  3.5"
                        ],
                        "text/html": [
                            "<div>\n",
                            "<style scoped>\n",
                            "    .dataframe tbody tr th:only-of-type {\n",
                            "        vertical-align: middle;\n",
                            "    }\n",
                            "\n",
                            "    .dataframe tbody tr th {\n",
                            "        vertical-align: top;\n",
                            "    }\n",
                            "\n",
                            "    .dataframe thead th {\n",
                            "        text-align: right;\n",
                            "    }\n",
                            "</style>\n",
                            "<table border=\"1\" class=\"dataframe\">\n",
                            "  <thead>\n",
                            "    <tr style=\"text-align: right;\">\n",
                            "      <th></th>\n",
                            "      <th>A</th>\n",
                            "    </tr>\n",
                            "  </thead>\n",
                            "  <tbody>\n",
                            "    <tr>\n",
                            "      <th>2020-01-01</th>\n",
                            "      <td>0.0</td>\n",
                            "    </tr>\n",
                            "    <tr>\n",
                            "      <th>2020-01-02</th>\n",
                            "      <td>0.5</td>\n",
                            "    </tr>\n",
                            "    <tr>\n",
                            "      <th>2020-01-03</th>\n",
                            "      <td>1.5</td>\n",
                            "    </tr>\n",
                            "    <tr>\n",
                            "      <th>2020-01-04</th>\n",
                            "      <td>2.5</td>\n",
                            "    </tr>\n",
                            "    <tr>\n",
                            "      <th>2020-01-05</th>\n",
                            "      <td>3.5</td>\n",
                            "    </tr>\n",
                            "  </tbody>\n",
                            "</table>\n",
                            "</div>"
                        ]
                    },
                    "metadata": {},
                    "execution_count": 37
                }
            ],
            "metadata": {}
        },
        {
            "cell_type": "code",
            "execution_count": 38,
            "source": [
                "df.rolling(\"2D\").mean()"
            ],
            "outputs": [
                {
                    "output_type": "execute_result",
                    "data": {
                        "text/plain": [
                            "              A\n",
                            "2020-01-01  0.0\n",
                            "2020-01-02  0.5\n",
                            "2020-01-03  1.5\n",
                            "2020-01-04  2.5\n",
                            "2020-01-05  3.5"
                        ],
                        "text/html": [
                            "<div>\n",
                            "<style scoped>\n",
                            "    .dataframe tbody tr th:only-of-type {\n",
                            "        vertical-align: middle;\n",
                            "    }\n",
                            "\n",
                            "    .dataframe tbody tr th {\n",
                            "        vertical-align: top;\n",
                            "    }\n",
                            "\n",
                            "    .dataframe thead th {\n",
                            "        text-align: right;\n",
                            "    }\n",
                            "</style>\n",
                            "<table border=\"1\" class=\"dataframe\">\n",
                            "  <thead>\n",
                            "    <tr style=\"text-align: right;\">\n",
                            "      <th></th>\n",
                            "      <th>A</th>\n",
                            "    </tr>\n",
                            "  </thead>\n",
                            "  <tbody>\n",
                            "    <tr>\n",
                            "      <th>2020-01-01</th>\n",
                            "      <td>0.0</td>\n",
                            "    </tr>\n",
                            "    <tr>\n",
                            "      <th>2020-01-02</th>\n",
                            "      <td>0.5</td>\n",
                            "    </tr>\n",
                            "    <tr>\n",
                            "      <th>2020-01-03</th>\n",
                            "      <td>1.5</td>\n",
                            "    </tr>\n",
                            "    <tr>\n",
                            "      <th>2020-01-04</th>\n",
                            "      <td>2.5</td>\n",
                            "    </tr>\n",
                            "    <tr>\n",
                            "      <th>2020-01-05</th>\n",
                            "      <td>3.5</td>\n",
                            "    </tr>\n",
                            "  </tbody>\n",
                            "</table>\n",
                            "</div>"
                        ]
                    },
                    "metadata": {},
                    "execution_count": 38
                }
            ],
            "metadata": {}
        },
        {
            "cell_type": "code",
            "execution_count": 39,
            "source": [
                "df = pd.DataFrame({\r\n",
                "    'brand': ['Yum Yum', 'Yum Yum', 'Indomie', 'Indomie', 'Indomie'],\r\n",
                "    'style': ['cup', 'cup', 'cup', 'pack', 'pack'],\r\n",
                "    'rating': [4, 4, 3.5, 15, 5]\r\n",
                "})"
            ],
            "outputs": [],
            "metadata": {}
        },
        {
            "cell_type": "code",
            "execution_count": 40,
            "source": [
                "df.drop_duplicates()"
            ],
            "outputs": [
                {
                    "output_type": "execute_result",
                    "data": {
                        "text/plain": [
                            "     brand style  rating\n",
                            "0  Yum Yum   cup     4.0\n",
                            "2  Indomie   cup     3.5\n",
                            "3  Indomie  pack    15.0\n",
                            "4  Indomie  pack     5.0"
                        ],
                        "text/html": [
                            "<div>\n",
                            "<style scoped>\n",
                            "    .dataframe tbody tr th:only-of-type {\n",
                            "        vertical-align: middle;\n",
                            "    }\n",
                            "\n",
                            "    .dataframe tbody tr th {\n",
                            "        vertical-align: top;\n",
                            "    }\n",
                            "\n",
                            "    .dataframe thead th {\n",
                            "        text-align: right;\n",
                            "    }\n",
                            "</style>\n",
                            "<table border=\"1\" class=\"dataframe\">\n",
                            "  <thead>\n",
                            "    <tr style=\"text-align: right;\">\n",
                            "      <th></th>\n",
                            "      <th>brand</th>\n",
                            "      <th>style</th>\n",
                            "      <th>rating</th>\n",
                            "    </tr>\n",
                            "  </thead>\n",
                            "  <tbody>\n",
                            "    <tr>\n",
                            "      <th>0</th>\n",
                            "      <td>Yum Yum</td>\n",
                            "      <td>cup</td>\n",
                            "      <td>4.0</td>\n",
                            "    </tr>\n",
                            "    <tr>\n",
                            "      <th>2</th>\n",
                            "      <td>Indomie</td>\n",
                            "      <td>cup</td>\n",
                            "      <td>3.5</td>\n",
                            "    </tr>\n",
                            "    <tr>\n",
                            "      <th>3</th>\n",
                            "      <td>Indomie</td>\n",
                            "      <td>pack</td>\n",
                            "      <td>15.0</td>\n",
                            "    </tr>\n",
                            "    <tr>\n",
                            "      <th>4</th>\n",
                            "      <td>Indomie</td>\n",
                            "      <td>pack</td>\n",
                            "      <td>5.0</td>\n",
                            "    </tr>\n",
                            "  </tbody>\n",
                            "</table>\n",
                            "</div>"
                        ]
                    },
                    "metadata": {},
                    "execution_count": 40
                }
            ],
            "metadata": {}
        },
        {
            "cell_type": "code",
            "execution_count": 6,
            "source": [
                "df = pd.DataFrame({'foo': ['A', 'A', 'A', 'B', 'B', 'B', 'C', 'C', 'C'],\r\n",
                "                   'bar': [1, 1, 1, 2, 2, 2, 3, 3, 3],\r\n",
                "                   'baz': [11, 12, 13, 14, 15, 16, 17, 18, 19]},\r\n",
                "                  index = [14, 15, 16, 17, 18, 19, 20, 21, 22])\r\n",
                "\r\n"
            ],
            "outputs": [],
            "metadata": {}
        },
        {
            "cell_type": "code",
            "execution_count": 7,
            "source": [
                "df"
            ],
            "outputs": [
                {
                    "output_type": "execute_result",
                    "data": {
                        "text/plain": [
                            "   foo  bar  baz\n",
                            "14   A    1   11\n",
                            "15   A    1   12\n",
                            "16   A    1   13\n",
                            "17   B    2   14\n",
                            "18   B    2   15\n",
                            "19   B    2   16\n",
                            "20   C    3   17\n",
                            "21   C    3   18\n",
                            "22   C    3   19"
                        ],
                        "text/html": [
                            "<div>\n",
                            "<style scoped>\n",
                            "    .dataframe tbody tr th:only-of-type {\n",
                            "        vertical-align: middle;\n",
                            "    }\n",
                            "\n",
                            "    .dataframe tbody tr th {\n",
                            "        vertical-align: top;\n",
                            "    }\n",
                            "\n",
                            "    .dataframe thead th {\n",
                            "        text-align: right;\n",
                            "    }\n",
                            "</style>\n",
                            "<table border=\"1\" class=\"dataframe\">\n",
                            "  <thead>\n",
                            "    <tr style=\"text-align: right;\">\n",
                            "      <th></th>\n",
                            "      <th>foo</th>\n",
                            "      <th>bar</th>\n",
                            "      <th>baz</th>\n",
                            "    </tr>\n",
                            "  </thead>\n",
                            "  <tbody>\n",
                            "    <tr>\n",
                            "      <th>14</th>\n",
                            "      <td>A</td>\n",
                            "      <td>1</td>\n",
                            "      <td>11</td>\n",
                            "    </tr>\n",
                            "    <tr>\n",
                            "      <th>15</th>\n",
                            "      <td>A</td>\n",
                            "      <td>1</td>\n",
                            "      <td>12</td>\n",
                            "    </tr>\n",
                            "    <tr>\n",
                            "      <th>16</th>\n",
                            "      <td>A</td>\n",
                            "      <td>1</td>\n",
                            "      <td>13</td>\n",
                            "    </tr>\n",
                            "    <tr>\n",
                            "      <th>17</th>\n",
                            "      <td>B</td>\n",
                            "      <td>2</td>\n",
                            "      <td>14</td>\n",
                            "    </tr>\n",
                            "    <tr>\n",
                            "      <th>18</th>\n",
                            "      <td>B</td>\n",
                            "      <td>2</td>\n",
                            "      <td>15</td>\n",
                            "    </tr>\n",
                            "    <tr>\n",
                            "      <th>19</th>\n",
                            "      <td>B</td>\n",
                            "      <td>2</td>\n",
                            "      <td>16</td>\n",
                            "    </tr>\n",
                            "    <tr>\n",
                            "      <th>20</th>\n",
                            "      <td>C</td>\n",
                            "      <td>3</td>\n",
                            "      <td>17</td>\n",
                            "    </tr>\n",
                            "    <tr>\n",
                            "      <th>21</th>\n",
                            "      <td>C</td>\n",
                            "      <td>3</td>\n",
                            "      <td>18</td>\n",
                            "    </tr>\n",
                            "    <tr>\n",
                            "      <th>22</th>\n",
                            "      <td>C</td>\n",
                            "      <td>3</td>\n",
                            "      <td>19</td>\n",
                            "    </tr>\n",
                            "  </tbody>\n",
                            "</table>\n",
                            "</div>"
                        ]
                    },
                    "metadata": {},
                    "execution_count": 7
                }
            ],
            "metadata": {}
        },
        {
            "cell_type": "code",
            "execution_count": 4,
            "source": [
                "df.reset_index(inplace=True)    # This gives us index 0,1,2... and a new col 'index'\r\n",
                "df.set_index('baz', inplace=True)    # Replace with date in yours\r\n",
                "# This next bit does the groupby and rolling, which will give a df \r\n",
                "# with a multi index of foo and baz, then reset_index(0) to remove the foo index level\r\n",
                "# so that it matches the original df index so that you can add it as a new column\r\n",
                "df['roll'] = df.groupby('foo')['bar'].rolling(3).sum().reset_index(0,drop=True)\r\n",
                "df.reset_index(inplace=True)    # brings baz back into the df as a column\r\n",
                "df.set_index('index', inplace=True)   # sets the index back to the original"
            ],
            "outputs": [],
            "metadata": {}
        },
        {
            "cell_type": "code",
            "execution_count": 5,
            "source": [
                "df = df.drop('column_name', 1) ##drop column"
            ],
            "outputs": [
                {
                    "output_type": "execute_result",
                    "data": {
                        "text/plain": [
                            "       baz foo  bar  roll\n",
                            "index                    \n",
                            "14      11   A    1   NaN\n",
                            "15      12   A    1   NaN\n",
                            "16      13   A    1   3.0\n",
                            "17      14   B    2   NaN\n",
                            "18      15   B    2   NaN\n",
                            "19      16   B    2   6.0\n",
                            "20      17   C    3   NaN\n",
                            "21      18   C    3   NaN\n",
                            "22      19   C    3   9.0"
                        ],
                        "text/html": [
                            "<div>\n",
                            "<style scoped>\n",
                            "    .dataframe tbody tr th:only-of-type {\n",
                            "        vertical-align: middle;\n",
                            "    }\n",
                            "\n",
                            "    .dataframe tbody tr th {\n",
                            "        vertical-align: top;\n",
                            "    }\n",
                            "\n",
                            "    .dataframe thead th {\n",
                            "        text-align: right;\n",
                            "    }\n",
                            "</style>\n",
                            "<table border=\"1\" class=\"dataframe\">\n",
                            "  <thead>\n",
                            "    <tr style=\"text-align: right;\">\n",
                            "      <th></th>\n",
                            "      <th>baz</th>\n",
                            "      <th>foo</th>\n",
                            "      <th>bar</th>\n",
                            "      <th>roll</th>\n",
                            "    </tr>\n",
                            "    <tr>\n",
                            "      <th>index</th>\n",
                            "      <th></th>\n",
                            "      <th></th>\n",
                            "      <th></th>\n",
                            "      <th></th>\n",
                            "    </tr>\n",
                            "  </thead>\n",
                            "  <tbody>\n",
                            "    <tr>\n",
                            "      <th>14</th>\n",
                            "      <td>11</td>\n",
                            "      <td>A</td>\n",
                            "      <td>1</td>\n",
                            "      <td>NaN</td>\n",
                            "    </tr>\n",
                            "    <tr>\n",
                            "      <th>15</th>\n",
                            "      <td>12</td>\n",
                            "      <td>A</td>\n",
                            "      <td>1</td>\n",
                            "      <td>NaN</td>\n",
                            "    </tr>\n",
                            "    <tr>\n",
                            "      <th>16</th>\n",
                            "      <td>13</td>\n",
                            "      <td>A</td>\n",
                            "      <td>1</td>\n",
                            "      <td>3.0</td>\n",
                            "    </tr>\n",
                            "    <tr>\n",
                            "      <th>17</th>\n",
                            "      <td>14</td>\n",
                            "      <td>B</td>\n",
                            "      <td>2</td>\n",
                            "      <td>NaN</td>\n",
                            "    </tr>\n",
                            "    <tr>\n",
                            "      <th>18</th>\n",
                            "      <td>15</td>\n",
                            "      <td>B</td>\n",
                            "      <td>2</td>\n",
                            "      <td>NaN</td>\n",
                            "    </tr>\n",
                            "    <tr>\n",
                            "      <th>19</th>\n",
                            "      <td>16</td>\n",
                            "      <td>B</td>\n",
                            "      <td>2</td>\n",
                            "      <td>6.0</td>\n",
                            "    </tr>\n",
                            "    <tr>\n",
                            "      <th>20</th>\n",
                            "      <td>17</td>\n",
                            "      <td>C</td>\n",
                            "      <td>3</td>\n",
                            "      <td>NaN</td>\n",
                            "    </tr>\n",
                            "    <tr>\n",
                            "      <th>21</th>\n",
                            "      <td>18</td>\n",
                            "      <td>C</td>\n",
                            "      <td>3</td>\n",
                            "      <td>NaN</td>\n",
                            "    </tr>\n",
                            "    <tr>\n",
                            "      <th>22</th>\n",
                            "      <td>19</td>\n",
                            "      <td>C</td>\n",
                            "      <td>3</td>\n",
                            "      <td>9.0</td>\n",
                            "    </tr>\n",
                            "  </tbody>\n",
                            "</table>\n",
                            "</div>"
                        ]
                    },
                    "metadata": {},
                    "execution_count": 5
                }
            ],
            "metadata": {}
        },
        {
            "cell_type": "code",
            "execution_count": 8,
            "source": [
                "import pandas as pd\r\n",
                "  \r\n",
                "# Initializing the nested list with Data set\r\n",
                "age_list = [['Afghanistan', 1952, 8425333, 'Asia'],\r\n",
                "            ['Australia', 1957, 9712569, 'Oceania'],\r\n",
                "            ['Brazil', 1962, 76039390, 'Americas'],\r\n",
                "            ['China', 1957, 637408000, 'Asia'],\r\n",
                "            ['France', 1957, 44310863, 'Europe'],\r\n",
                "            ['India', 1952, 3.72e+08, 'Asia'],\r\n",
                "            ['United States', 1957, 171984000, 'Americas']]\r\n",
                "  \r\n",
                "# creating a pandas dataframe\r\n",
                "df = pd.DataFrame(age_list, columns=['Country', 'Year',\r\n",
                "                                     'Population', 'Continent'])\r\n",
                "  \r\n",
                "# Sorting by column \"Population\"\r\n",
                "df.sort_values(by=['Population'], ascending=False)"
            ],
            "outputs": [
                {
                    "output_type": "execute_result",
                    "data": {
                        "text/plain": [
                            "         Country  Year   Population Continent\n",
                            "3          China  1957  637408000.0      Asia\n",
                            "5          India  1952  372000000.0      Asia\n",
                            "6  United States  1957  171984000.0  Americas\n",
                            "2         Brazil  1962   76039390.0  Americas\n",
                            "4         France  1957   44310863.0    Europe\n",
                            "1      Australia  1957    9712569.0   Oceania\n",
                            "0    Afghanistan  1952    8425333.0      Asia"
                        ],
                        "text/html": [
                            "<div>\n",
                            "<style scoped>\n",
                            "    .dataframe tbody tr th:only-of-type {\n",
                            "        vertical-align: middle;\n",
                            "    }\n",
                            "\n",
                            "    .dataframe tbody tr th {\n",
                            "        vertical-align: top;\n",
                            "    }\n",
                            "\n",
                            "    .dataframe thead th {\n",
                            "        text-align: right;\n",
                            "    }\n",
                            "</style>\n",
                            "<table border=\"1\" class=\"dataframe\">\n",
                            "  <thead>\n",
                            "    <tr style=\"text-align: right;\">\n",
                            "      <th></th>\n",
                            "      <th>Country</th>\n",
                            "      <th>Year</th>\n",
                            "      <th>Population</th>\n",
                            "      <th>Continent</th>\n",
                            "    </tr>\n",
                            "  </thead>\n",
                            "  <tbody>\n",
                            "    <tr>\n",
                            "      <th>3</th>\n",
                            "      <td>China</td>\n",
                            "      <td>1957</td>\n",
                            "      <td>637408000.0</td>\n",
                            "      <td>Asia</td>\n",
                            "    </tr>\n",
                            "    <tr>\n",
                            "      <th>5</th>\n",
                            "      <td>India</td>\n",
                            "      <td>1952</td>\n",
                            "      <td>372000000.0</td>\n",
                            "      <td>Asia</td>\n",
                            "    </tr>\n",
                            "    <tr>\n",
                            "      <th>6</th>\n",
                            "      <td>United States</td>\n",
                            "      <td>1957</td>\n",
                            "      <td>171984000.0</td>\n",
                            "      <td>Americas</td>\n",
                            "    </tr>\n",
                            "    <tr>\n",
                            "      <th>2</th>\n",
                            "      <td>Brazil</td>\n",
                            "      <td>1962</td>\n",
                            "      <td>76039390.0</td>\n",
                            "      <td>Americas</td>\n",
                            "    </tr>\n",
                            "    <tr>\n",
                            "      <th>4</th>\n",
                            "      <td>France</td>\n",
                            "      <td>1957</td>\n",
                            "      <td>44310863.0</td>\n",
                            "      <td>Europe</td>\n",
                            "    </tr>\n",
                            "    <tr>\n",
                            "      <th>1</th>\n",
                            "      <td>Australia</td>\n",
                            "      <td>1957</td>\n",
                            "      <td>9712569.0</td>\n",
                            "      <td>Oceania</td>\n",
                            "    </tr>\n",
                            "    <tr>\n",
                            "      <th>0</th>\n",
                            "      <td>Afghanistan</td>\n",
                            "      <td>1952</td>\n",
                            "      <td>8425333.0</td>\n",
                            "      <td>Asia</td>\n",
                            "    </tr>\n",
                            "  </tbody>\n",
                            "</table>\n",
                            "</div>"
                        ]
                    },
                    "metadata": {},
                    "execution_count": 8
                }
            ],
            "metadata": {}
        },
        {
            "cell_type": "code",
            "execution_count": 9,
            "source": [
                "import pandas as pd\r\n",
                "data = {'A': [1, 2, 3], 'B': [4, 5, 6], 'C': [7, 8, 9]}\r\n",
                "df = pd.DataFrame(data)\r\n",
                "df"
            ],
            "outputs": [
                {
                    "output_type": "execute_result",
                    "data": {
                        "text/plain": [
                            "   A  B  C\n",
                            "0  1  4  7\n",
                            "1  2  5  8\n",
                            "2  3  6  9"
                        ],
                        "text/html": [
                            "<div>\n",
                            "<style scoped>\n",
                            "    .dataframe tbody tr th:only-of-type {\n",
                            "        vertical-align: middle;\n",
                            "    }\n",
                            "\n",
                            "    .dataframe tbody tr th {\n",
                            "        vertical-align: top;\n",
                            "    }\n",
                            "\n",
                            "    .dataframe thead th {\n",
                            "        text-align: right;\n",
                            "    }\n",
                            "</style>\n",
                            "<table border=\"1\" class=\"dataframe\">\n",
                            "  <thead>\n",
                            "    <tr style=\"text-align: right;\">\n",
                            "      <th></th>\n",
                            "      <th>A</th>\n",
                            "      <th>B</th>\n",
                            "      <th>C</th>\n",
                            "    </tr>\n",
                            "  </thead>\n",
                            "  <tbody>\n",
                            "    <tr>\n",
                            "      <th>0</th>\n",
                            "      <td>1</td>\n",
                            "      <td>4</td>\n",
                            "      <td>7</td>\n",
                            "    </tr>\n",
                            "    <tr>\n",
                            "      <th>1</th>\n",
                            "      <td>2</td>\n",
                            "      <td>5</td>\n",
                            "      <td>8</td>\n",
                            "    </tr>\n",
                            "    <tr>\n",
                            "      <th>2</th>\n",
                            "      <td>3</td>\n",
                            "      <td>6</td>\n",
                            "      <td>9</td>\n",
                            "    </tr>\n",
                            "  </tbody>\n",
                            "</table>\n",
                            "</div>"
                        ]
                    },
                    "metadata": {},
                    "execution_count": 9
                }
            ],
            "metadata": {}
        },
        {
            "cell_type": "code",
            "execution_count": 10,
            "source": [
                "def addOne(v):\r\n",
                "        v += 1\r\n",
                "        return v"
            ],
            "outputs": [],
            "metadata": {}
        },
        {
            "cell_type": "code",
            "execution_count": 11,
            "source": [
                "df['A'] = df['A'].map(addOne) ## APPLY TO ONE COLUMN"
            ],
            "outputs": [],
            "metadata": {}
        },
        {
            "cell_type": "code",
            "execution_count": 16,
            "source": [
                "import pandas as pd \r\n",
                "age_list = [['Afghanistan', 1952, 8425333, 'Asia'],\r\n",
                "            ['Australia', 1957, 9712569, 'Oceania'],\r\n",
                "            ['Brazil', 1962, 76039390, 'Americas'],\r\n",
                "            ['China', 1957, 637408000, 'Asia'],\r\n",
                "            ['France', 1957, 44310863, 'Europe'],\r\n",
                "            ['India', 1952, 3.72e+08, 'Asia'],\r\n",
                "            ['United States', 1957, 171984000, 'Americas']]\r\n",
                "age_list\r\n",
                "\r\n",
                "# creating a pandas dataframe\r\n",
                "df = pd.DataFrame(age_list, columns=['Country', 'Year',\r\n",
                "                                     'Population', 'Continent'])\r\n"
            ],
            "outputs": [],
            "metadata": {}
        },
        {
            "cell_type": "code",
            "execution_count": 17,
            "source": [
                "df['Country']"
            ],
            "outputs": [
                {
                    "output_type": "execute_result",
                    "data": {
                        "text/plain": [
                            "0      Afghanistan\n",
                            "1        Australia\n",
                            "2           Brazil\n",
                            "3            China\n",
                            "4           France\n",
                            "5            India\n",
                            "6    United States\n",
                            "Name: Country, dtype: object"
                        ]
                    },
                    "metadata": {},
                    "execution_count": 17
                }
            ],
            "metadata": {}
        },
        {
            "cell_type": "code",
            "execution_count": 19,
            "source": [
                "def Arab_League (row):\r\n",
                "   if   row['Country'] == 'Algeria' :\r\n",
                "       return 'Arab_League_MEMBER'       \r\n",
                "   elif row['Country'] == 'Bahrain' :\r\n",
                "       return 'Arab_League_MEMBER'        \r\n",
                "   elif row['Country'] == 'Comoros' :\r\n",
                "       return 'Arab_League_MEMBER'       \r\n",
                "   elif row['Country'] == 'Djibouti' :\r\n",
                "       return 'Arab_League_MEMBER'             \r\n",
                "   elif row['Country'] == 'Egypt' :\r\n",
                "       return 'Arab_League_MEMBER'        \r\n",
                "   elif row['Country'] == 'Iraq' :\r\n",
                "       return 'Arab_League_MEMBER'    \r\n",
                "   elif row['Country'] == 'Jordan' :\r\n",
                "       return 'Arab_League_MEMBER'      \r\n",
                "   elif row['Country'] == 'Kuwait' :\r\n",
                "       return 'Arab_League_MEMBER'          \r\n",
                "   elif row['Country'] == 'Lebanon' :\r\n",
                "       return 'Arab_League_MEMBER'\r\n",
                "   elif row['Country'] == 'Libya' :\r\n",
                "       return 'Arab_League_MEMBER'\r\n",
                "   elif row['Country'] == 'Mauritania' :\r\n",
                "       return 'Arab_League_MEMBER'\r\n",
                "   elif row['Country'] == 'Morocoo' :\r\n",
                "       return 'Arab_League_MEMBER'\t   \r\n",
                "   elif row['Country'] == 'Oman' :\r\n",
                "       return 'Arab_League_MEMBER'\r\n",
                "   elif row['Country'] == 'West Bank and Gaza' :\r\n",
                "       return 'Arab_League_MEMBER'\r\n",
                "   elif row['Country'] == 'Qatar' :\r\n",
                "       return 'Arab_League_MEMBER'\r\n",
                "   elif row['Country'] == 'Saudi Arabia' :\r\n",
                "       return 'Arab_League_MEMBER'\r\n",
                "   elif row['Country'] == 'Somalia' :\r\n",
                "       return 'Arab_League_MEMBER'\r\n",
                "   elif row['Country'] == 'Sudan' :\r\n",
                "       return 'Arab_League_MEMBER'\r\n",
                "   elif row['Country'] == 'Syria' :\r\n",
                "       return 'Arab_League_MEMBER'\t   \r\n",
                "   elif row['Country'] == 'Tunisia' :\r\n",
                "       return 'Arab_League_MEMBER'\t   \t \r\n",
                "   elif row['Country'] == 'United Arab Emirates' :\r\n",
                "       return 'Arab_League_MEMBER'\t   \t \r\n",
                "   elif row['Country'] == 'Yemen' :\r\n",
                "       return 'Arab_League_MEMBER'\t   \r\n",
                "   elif row['Country'] == 'Eritrea' :\r\n",
                "       return 'Arab_League_MEMBER'\t\r\n",
                "   else :\r\n",
                "      return 'Not_In_Arab_League'  \r\n",
                "##\r\n",
                "      \r\n",
                "df['Arab_League'] = df.apply (lambda row: Arab_League (row),axis=1)  \r\n",
                "\r\n",
                "df['Arab_League'].value_counts(sort=False, dropna=False)  "
            ],
            "outputs": [
                {
                    "output_type": "execute_result",
                    "data": {
                        "text/plain": [
                            "Not_In_Arab_League    7\n",
                            "Name: Arab_League, dtype: int64"
                        ]
                    },
                    "metadata": {},
                    "execution_count": 19
                }
            ],
            "metadata": {}
        },
        {
            "cell_type": "code",
            "execution_count": 20,
            "source": [
                "## lets check NATO membership on abovr dataset using a dictionary\r\n",
                "\r\n",
                "NATO = {'Albania':'NATO','Belgium':'NATO','Bulgaria':'NATO','Canada':'NATO','Croatia':'NATO','Czech Republic':'NATO','Denmark':'NATO','Estonia':'NATO','France':'NATO','Germany':'NATO','Greece':'NATO','Hungary':'NATO','Iceland':'NATO','Italy':'NATO','Latvia':'NATO','Lithuania':'NATO','Luxembourg':'NATO','Netherlands':'NATO','Norway':'NATO','Poland':'NATO','Portugal':'NATO','Romania':'NATO','Slovak Republic':'NATO','Slovenia':'NATO','Spain':'NATO','Turkey':'NATO','United Kingdom':'NATO','United States':'NATO'}"
            ],
            "outputs": [],
            "metadata": {}
        },
        {
            "cell_type": "code",
            "execution_count": 32,
            "source": [
                "#df.drop('NATO',axis=1)\r\n",
                "\r\n",
                "df['NATO']=df['Country'].map(NATO)\r\n",
                "#\r\n"
            ],
            "outputs": [],
            "metadata": {}
        },
        {
            "cell_type": "code",
            "execution_count": 33,
            "source": [
                "df"
            ],
            "outputs": [
                {
                    "output_type": "execute_result",
                    "data": {
                        "text/plain": [
                            "         Country  Year   Population Continent         Arab_League  NATO\n",
                            "0    Afghanistan  1952    8425333.0      Asia  Not_In_Arab_League   NaN\n",
                            "1      Australia  1957    9712569.0   Oceania  Not_In_Arab_League   NaN\n",
                            "2         Brazil  1962   76039390.0  Americas  Not_In_Arab_League   NaN\n",
                            "3          China  1957  637408000.0      Asia  Not_In_Arab_League   NaN\n",
                            "4         France  1957   44310863.0    Europe  Not_In_Arab_League  NATO\n",
                            "5          India  1952  372000000.0      Asia  Not_In_Arab_League   NaN\n",
                            "6  United States  1957  171984000.0  Americas  Not_In_Arab_League  NATO"
                        ],
                        "text/html": [
                            "<div>\n",
                            "<style scoped>\n",
                            "    .dataframe tbody tr th:only-of-type {\n",
                            "        vertical-align: middle;\n",
                            "    }\n",
                            "\n",
                            "    .dataframe tbody tr th {\n",
                            "        vertical-align: top;\n",
                            "    }\n",
                            "\n",
                            "    .dataframe thead th {\n",
                            "        text-align: right;\n",
                            "    }\n",
                            "</style>\n",
                            "<table border=\"1\" class=\"dataframe\">\n",
                            "  <thead>\n",
                            "    <tr style=\"text-align: right;\">\n",
                            "      <th></th>\n",
                            "      <th>Country</th>\n",
                            "      <th>Year</th>\n",
                            "      <th>Population</th>\n",
                            "      <th>Continent</th>\n",
                            "      <th>Arab_League</th>\n",
                            "      <th>NATO</th>\n",
                            "    </tr>\n",
                            "  </thead>\n",
                            "  <tbody>\n",
                            "    <tr>\n",
                            "      <th>0</th>\n",
                            "      <td>Afghanistan</td>\n",
                            "      <td>1952</td>\n",
                            "      <td>8425333.0</td>\n",
                            "      <td>Asia</td>\n",
                            "      <td>Not_In_Arab_League</td>\n",
                            "      <td>NaN</td>\n",
                            "    </tr>\n",
                            "    <tr>\n",
                            "      <th>1</th>\n",
                            "      <td>Australia</td>\n",
                            "      <td>1957</td>\n",
                            "      <td>9712569.0</td>\n",
                            "      <td>Oceania</td>\n",
                            "      <td>Not_In_Arab_League</td>\n",
                            "      <td>NaN</td>\n",
                            "    </tr>\n",
                            "    <tr>\n",
                            "      <th>2</th>\n",
                            "      <td>Brazil</td>\n",
                            "      <td>1962</td>\n",
                            "      <td>76039390.0</td>\n",
                            "      <td>Americas</td>\n",
                            "      <td>Not_In_Arab_League</td>\n",
                            "      <td>NaN</td>\n",
                            "    </tr>\n",
                            "    <tr>\n",
                            "      <th>3</th>\n",
                            "      <td>China</td>\n",
                            "      <td>1957</td>\n",
                            "      <td>637408000.0</td>\n",
                            "      <td>Asia</td>\n",
                            "      <td>Not_In_Arab_League</td>\n",
                            "      <td>NaN</td>\n",
                            "    </tr>\n",
                            "    <tr>\n",
                            "      <th>4</th>\n",
                            "      <td>France</td>\n",
                            "      <td>1957</td>\n",
                            "      <td>44310863.0</td>\n",
                            "      <td>Europe</td>\n",
                            "      <td>Not_In_Arab_League</td>\n",
                            "      <td>NATO</td>\n",
                            "    </tr>\n",
                            "    <tr>\n",
                            "      <th>5</th>\n",
                            "      <td>India</td>\n",
                            "      <td>1952</td>\n",
                            "      <td>372000000.0</td>\n",
                            "      <td>Asia</td>\n",
                            "      <td>Not_In_Arab_League</td>\n",
                            "      <td>NaN</td>\n",
                            "    </tr>\n",
                            "    <tr>\n",
                            "      <th>6</th>\n",
                            "      <td>United States</td>\n",
                            "      <td>1957</td>\n",
                            "      <td>171984000.0</td>\n",
                            "      <td>Americas</td>\n",
                            "      <td>Not_In_Arab_League</td>\n",
                            "      <td>NATO</td>\n",
                            "    </tr>\n",
                            "  </tbody>\n",
                            "</table>\n",
                            "</div>"
                        ]
                    },
                    "metadata": {},
                    "execution_count": 33
                }
            ],
            "metadata": {}
        },
        {
            "cell_type": "code",
            "execution_count": 46,
            "source": [
                "df['NATO']=df['NATO'].fillna('Not in NATO')"
            ],
            "outputs": [],
            "metadata": {}
        },
        {
            "cell_type": "code",
            "execution_count": 40,
            "source": [
                "## probably not wise with big lists\r\n",
                "G7 = ['Italy','United States','UK','France','Germany','Japan','Canada'] \r\n",
                "  \r\n",
                "# printing original list\r\n",
                "print(\"The original list is : \" + str(G7))\r\n",
                "  \r\n",
                "# initializing K \r\n",
                "K = \"G7\"\r\n",
                "  \r\n",
                "# using dictionary comprehension\r\n",
                "# + operator used to concat default key and values \r\n",
                "res = {str(ele) : K for ele in G7 }\r\n",
                "  \r\n",
                "# printing result \r\n",
                "print(\"The constructed Dictionary : \" + str(res))"
            ],
            "outputs": [
                {
                    "output_type": "stream",
                    "name": "stdout",
                    "text": [
                        "The original list is : ['Italy', 'United States', 'UK', 'France', 'Germany', 'Japan', 'Canada']\n",
                        "The constructed Dictionary : {'Italy': 'G7', 'United States': 'G7', 'UK': 'G7', 'France': 'G7', 'Germany': 'G7', 'Japan': 'G7', 'Canada': 'G7'}\n"
                    ]
                }
            ],
            "metadata": {}
        },
        {
            "cell_type": "code",
            "execution_count": 41,
            "source": [
                "df['G7']=df['Country'].map(res)"
            ],
            "outputs": [],
            "metadata": {}
        },
        {
            "cell_type": "code",
            "execution_count": 42,
            "source": [
                "res"
            ],
            "outputs": [
                {
                    "output_type": "execute_result",
                    "data": {
                        "text/plain": [
                            "{'Italy': 'G7',\n",
                            " 'United States': 'G7',\n",
                            " 'UK': 'G7',\n",
                            " 'France': 'G7',\n",
                            " 'Germany': 'G7',\n",
                            " 'Japan': 'G7',\n",
                            " 'Canada': 'G7'}"
                        ]
                    },
                    "metadata": {},
                    "execution_count": 42
                }
            ],
            "metadata": {}
        },
        {
            "cell_type": "code",
            "execution_count": 47,
            "source": [
                "df"
            ],
            "outputs": [
                {
                    "output_type": "execute_result",
                    "data": {
                        "text/plain": [
                            "         Country  Year   Population Continent         Arab_League  \\\n",
                            "0    Afghanistan  1952    8425333.0      Asia  Not_In_Arab_League   \n",
                            "1      Australia  1957    9712569.0   Oceania  Not_In_Arab_League   \n",
                            "2         Brazil  1962   76039390.0  Americas  Not_In_Arab_League   \n",
                            "3          China  1957  637408000.0      Asia  Not_In_Arab_League   \n",
                            "4         France  1957   44310863.0    Europe  Not_In_Arab_League   \n",
                            "5          India  1952  372000000.0      Asia  Not_In_Arab_League   \n",
                            "6  United States  1957  171984000.0  Americas  Not_In_Arab_League   \n",
                            "\n",
                            "          NATO         G7  \n",
                            "0  Not in NATO  Not in G7  \n",
                            "1  Not in NATO  Not in G7  \n",
                            "2  Not in NATO  Not in G7  \n",
                            "3  Not in NATO  Not in G7  \n",
                            "4         NATO         G7  \n",
                            "5  Not in NATO  Not in G7  \n",
                            "6         NATO         G7  "
                        ],
                        "text/html": [
                            "<div>\n",
                            "<style scoped>\n",
                            "    .dataframe tbody tr th:only-of-type {\n",
                            "        vertical-align: middle;\n",
                            "    }\n",
                            "\n",
                            "    .dataframe tbody tr th {\n",
                            "        vertical-align: top;\n",
                            "    }\n",
                            "\n",
                            "    .dataframe thead th {\n",
                            "        text-align: right;\n",
                            "    }\n",
                            "</style>\n",
                            "<table border=\"1\" class=\"dataframe\">\n",
                            "  <thead>\n",
                            "    <tr style=\"text-align: right;\">\n",
                            "      <th></th>\n",
                            "      <th>Country</th>\n",
                            "      <th>Year</th>\n",
                            "      <th>Population</th>\n",
                            "      <th>Continent</th>\n",
                            "      <th>Arab_League</th>\n",
                            "      <th>NATO</th>\n",
                            "      <th>G7</th>\n",
                            "    </tr>\n",
                            "  </thead>\n",
                            "  <tbody>\n",
                            "    <tr>\n",
                            "      <th>0</th>\n",
                            "      <td>Afghanistan</td>\n",
                            "      <td>1952</td>\n",
                            "      <td>8425333.0</td>\n",
                            "      <td>Asia</td>\n",
                            "      <td>Not_In_Arab_League</td>\n",
                            "      <td>Not in NATO</td>\n",
                            "      <td>Not in G7</td>\n",
                            "    </tr>\n",
                            "    <tr>\n",
                            "      <th>1</th>\n",
                            "      <td>Australia</td>\n",
                            "      <td>1957</td>\n",
                            "      <td>9712569.0</td>\n",
                            "      <td>Oceania</td>\n",
                            "      <td>Not_In_Arab_League</td>\n",
                            "      <td>Not in NATO</td>\n",
                            "      <td>Not in G7</td>\n",
                            "    </tr>\n",
                            "    <tr>\n",
                            "      <th>2</th>\n",
                            "      <td>Brazil</td>\n",
                            "      <td>1962</td>\n",
                            "      <td>76039390.0</td>\n",
                            "      <td>Americas</td>\n",
                            "      <td>Not_In_Arab_League</td>\n",
                            "      <td>Not in NATO</td>\n",
                            "      <td>Not in G7</td>\n",
                            "    </tr>\n",
                            "    <tr>\n",
                            "      <th>3</th>\n",
                            "      <td>China</td>\n",
                            "      <td>1957</td>\n",
                            "      <td>637408000.0</td>\n",
                            "      <td>Asia</td>\n",
                            "      <td>Not_In_Arab_League</td>\n",
                            "      <td>Not in NATO</td>\n",
                            "      <td>Not in G7</td>\n",
                            "    </tr>\n",
                            "    <tr>\n",
                            "      <th>4</th>\n",
                            "      <td>France</td>\n",
                            "      <td>1957</td>\n",
                            "      <td>44310863.0</td>\n",
                            "      <td>Europe</td>\n",
                            "      <td>Not_In_Arab_League</td>\n",
                            "      <td>NATO</td>\n",
                            "      <td>G7</td>\n",
                            "    </tr>\n",
                            "    <tr>\n",
                            "      <th>5</th>\n",
                            "      <td>India</td>\n",
                            "      <td>1952</td>\n",
                            "      <td>372000000.0</td>\n",
                            "      <td>Asia</td>\n",
                            "      <td>Not_In_Arab_League</td>\n",
                            "      <td>Not in NATO</td>\n",
                            "      <td>Not in G7</td>\n",
                            "    </tr>\n",
                            "    <tr>\n",
                            "      <th>6</th>\n",
                            "      <td>United States</td>\n",
                            "      <td>1957</td>\n",
                            "      <td>171984000.0</td>\n",
                            "      <td>Americas</td>\n",
                            "      <td>Not_In_Arab_League</td>\n",
                            "      <td>NATO</td>\n",
                            "      <td>G7</td>\n",
                            "    </tr>\n",
                            "  </tbody>\n",
                            "</table>\n",
                            "</div>"
                        ]
                    },
                    "metadata": {},
                    "execution_count": 47
                }
            ],
            "metadata": {}
        },
        {
            "cell_type": "code",
            "execution_count": 44,
            "source": [
                "##clean up\r\n",
                "df['G7']=df['G7'].fillna('Not in G7')"
            ],
            "outputs": [],
            "metadata": {}
        },
        {
            "cell_type": "code",
            "execution_count": 48,
            "source": [
                "##Pandas lag, shift create lag values function\r\n",
                "\r\n",
                "df = pd.DataFrame({\r\n",
                "    \"date\": pd.date_range(\"2020-01-01\", freq='D', periods=5),\r\n",
                "    \"sales\": [22, 30, 32, 25, 42]\r\n",
                "})"
            ],
            "outputs": [],
            "metadata": {}
        },
        {
            "cell_type": "code",
            "execution_count": 52,
            "source": [
                "df"
            ],
            "outputs": [
                {
                    "output_type": "execute_result",
                    "data": {
                        "text/plain": [
                            "        date  sales  diff\n",
                            "0 2020-01-01     22  -8.0\n",
                            "1 2020-01-02     30  -2.0\n",
                            "2 2020-01-03     32   7.0\n",
                            "3 2020-01-04     25 -17.0\n",
                            "4 2020-01-05     42   NaN"
                        ],
                        "text/html": [
                            "<div>\n",
                            "<style scoped>\n",
                            "    .dataframe tbody tr th:only-of-type {\n",
                            "        vertical-align: middle;\n",
                            "    }\n",
                            "\n",
                            "    .dataframe tbody tr th {\n",
                            "        vertical-align: top;\n",
                            "    }\n",
                            "\n",
                            "    .dataframe thead th {\n",
                            "        text-align: right;\n",
                            "    }\n",
                            "</style>\n",
                            "<table border=\"1\" class=\"dataframe\">\n",
                            "  <thead>\n",
                            "    <tr style=\"text-align: right;\">\n",
                            "      <th></th>\n",
                            "      <th>date</th>\n",
                            "      <th>sales</th>\n",
                            "      <th>diff</th>\n",
                            "    </tr>\n",
                            "  </thead>\n",
                            "  <tbody>\n",
                            "    <tr>\n",
                            "      <th>0</th>\n",
                            "      <td>2020-01-01</td>\n",
                            "      <td>22</td>\n",
                            "      <td>-8.0</td>\n",
                            "    </tr>\n",
                            "    <tr>\n",
                            "      <th>1</th>\n",
                            "      <td>2020-01-02</td>\n",
                            "      <td>30</td>\n",
                            "      <td>-2.0</td>\n",
                            "    </tr>\n",
                            "    <tr>\n",
                            "      <th>2</th>\n",
                            "      <td>2020-01-03</td>\n",
                            "      <td>32</td>\n",
                            "      <td>7.0</td>\n",
                            "    </tr>\n",
                            "    <tr>\n",
                            "      <th>3</th>\n",
                            "      <td>2020-01-04</td>\n",
                            "      <td>25</td>\n",
                            "      <td>-17.0</td>\n",
                            "    </tr>\n",
                            "    <tr>\n",
                            "      <th>4</th>\n",
                            "      <td>2020-01-05</td>\n",
                            "      <td>42</td>\n",
                            "      <td>NaN</td>\n",
                            "    </tr>\n",
                            "  </tbody>\n",
                            "</table>\n",
                            "</div>"
                        ]
                    },
                    "metadata": {},
                    "execution_count": 52
                }
            ],
            "metadata": {}
        },
        {
            "cell_type": "code",
            "execution_count": 55,
            "source": [
                "df['lag'] =  df.shift(1)['sales']"
            ],
            "outputs": [],
            "metadata": {}
        },
        {
            "cell_type": "code",
            "execution_count": 57,
            "source": [
                "df['diff']= df['sales']-df.shift(1)['sales']"
            ],
            "outputs": [],
            "metadata": {}
        },
        {
            "cell_type": "code",
            "execution_count": 58,
            "source": [
                "## we get 1 dat lag value\r\n",
                "df"
            ],
            "outputs": [
                {
                    "output_type": "execute_result",
                    "data": {
                        "text/plain": [
                            "        date  sales  diff   lag\n",
                            "0 2020-01-01     22   NaN   NaN\n",
                            "1 2020-01-02     30   8.0  22.0\n",
                            "2 2020-01-03     32   2.0  30.0\n",
                            "3 2020-01-04     25  -7.0  32.0\n",
                            "4 2020-01-05     42  17.0  25.0"
                        ],
                        "text/html": [
                            "<div>\n",
                            "<style scoped>\n",
                            "    .dataframe tbody tr th:only-of-type {\n",
                            "        vertical-align: middle;\n",
                            "    }\n",
                            "\n",
                            "    .dataframe tbody tr th {\n",
                            "        vertical-align: top;\n",
                            "    }\n",
                            "\n",
                            "    .dataframe thead th {\n",
                            "        text-align: right;\n",
                            "    }\n",
                            "</style>\n",
                            "<table border=\"1\" class=\"dataframe\">\n",
                            "  <thead>\n",
                            "    <tr style=\"text-align: right;\">\n",
                            "      <th></th>\n",
                            "      <th>date</th>\n",
                            "      <th>sales</th>\n",
                            "      <th>diff</th>\n",
                            "      <th>lag</th>\n",
                            "    </tr>\n",
                            "  </thead>\n",
                            "  <tbody>\n",
                            "    <tr>\n",
                            "      <th>0</th>\n",
                            "      <td>2020-01-01</td>\n",
                            "      <td>22</td>\n",
                            "      <td>NaN</td>\n",
                            "      <td>NaN</td>\n",
                            "    </tr>\n",
                            "    <tr>\n",
                            "      <th>1</th>\n",
                            "      <td>2020-01-02</td>\n",
                            "      <td>30</td>\n",
                            "      <td>8.0</td>\n",
                            "      <td>22.0</td>\n",
                            "    </tr>\n",
                            "    <tr>\n",
                            "      <th>2</th>\n",
                            "      <td>2020-01-03</td>\n",
                            "      <td>32</td>\n",
                            "      <td>2.0</td>\n",
                            "      <td>30.0</td>\n",
                            "    </tr>\n",
                            "    <tr>\n",
                            "      <th>3</th>\n",
                            "      <td>2020-01-04</td>\n",
                            "      <td>25</td>\n",
                            "      <td>-7.0</td>\n",
                            "      <td>32.0</td>\n",
                            "    </tr>\n",
                            "    <tr>\n",
                            "      <th>4</th>\n",
                            "      <td>2020-01-05</td>\n",
                            "      <td>42</td>\n",
                            "      <td>17.0</td>\n",
                            "      <td>25.0</td>\n",
                            "    </tr>\n",
                            "  </tbody>\n",
                            "</table>\n",
                            "</div>"
                        ]
                    },
                    "metadata": {},
                    "execution_count": 58
                }
            ],
            "metadata": {}
        },
        {
            "cell_type": "code",
            "execution_count": 59,
            "source": [
                "df['diff_pct']= (df['sales']-df.shift(1)['sales'])/df['sales']"
            ],
            "outputs": [],
            "metadata": {}
        },
        {
            "cell_type": "code",
            "execution_count": 60,
            "source": [
                "df"
            ],
            "outputs": [
                {
                    "output_type": "execute_result",
                    "data": {
                        "text/plain": [
                            "        date  sales  diff   lag  diff_pct\n",
                            "0 2020-01-01     22   NaN   NaN       NaN\n",
                            "1 2020-01-02     30   8.0  22.0  0.266667\n",
                            "2 2020-01-03     32   2.0  30.0  0.062500\n",
                            "3 2020-01-04     25  -7.0  32.0 -0.280000\n",
                            "4 2020-01-05     42  17.0  25.0  0.404762"
                        ],
                        "text/html": [
                            "<div>\n",
                            "<style scoped>\n",
                            "    .dataframe tbody tr th:only-of-type {\n",
                            "        vertical-align: middle;\n",
                            "    }\n",
                            "\n",
                            "    .dataframe tbody tr th {\n",
                            "        vertical-align: top;\n",
                            "    }\n",
                            "\n",
                            "    .dataframe thead th {\n",
                            "        text-align: right;\n",
                            "    }\n",
                            "</style>\n",
                            "<table border=\"1\" class=\"dataframe\">\n",
                            "  <thead>\n",
                            "    <tr style=\"text-align: right;\">\n",
                            "      <th></th>\n",
                            "      <th>date</th>\n",
                            "      <th>sales</th>\n",
                            "      <th>diff</th>\n",
                            "      <th>lag</th>\n",
                            "      <th>diff_pct</th>\n",
                            "    </tr>\n",
                            "  </thead>\n",
                            "  <tbody>\n",
                            "    <tr>\n",
                            "      <th>0</th>\n",
                            "      <td>2020-01-01</td>\n",
                            "      <td>22</td>\n",
                            "      <td>NaN</td>\n",
                            "      <td>NaN</td>\n",
                            "      <td>NaN</td>\n",
                            "    </tr>\n",
                            "    <tr>\n",
                            "      <th>1</th>\n",
                            "      <td>2020-01-02</td>\n",
                            "      <td>30</td>\n",
                            "      <td>8.0</td>\n",
                            "      <td>22.0</td>\n",
                            "      <td>0.266667</td>\n",
                            "    </tr>\n",
                            "    <tr>\n",
                            "      <th>2</th>\n",
                            "      <td>2020-01-03</td>\n",
                            "      <td>32</td>\n",
                            "      <td>2.0</td>\n",
                            "      <td>30.0</td>\n",
                            "      <td>0.062500</td>\n",
                            "    </tr>\n",
                            "    <tr>\n",
                            "      <th>3</th>\n",
                            "      <td>2020-01-04</td>\n",
                            "      <td>25</td>\n",
                            "      <td>-7.0</td>\n",
                            "      <td>32.0</td>\n",
                            "      <td>-0.280000</td>\n",
                            "    </tr>\n",
                            "    <tr>\n",
                            "      <th>4</th>\n",
                            "      <td>2020-01-05</td>\n",
                            "      <td>42</td>\n",
                            "      <td>17.0</td>\n",
                            "      <td>25.0</td>\n",
                            "      <td>0.404762</td>\n",
                            "    </tr>\n",
                            "  </tbody>\n",
                            "</table>\n",
                            "</div>"
                        ]
                    },
                    "metadata": {},
                    "execution_count": 60
                }
            ],
            "metadata": {}
        },
        {
            "cell_type": "code",
            "execution_count": 62,
            "source": [
                "df['3_day_momentum']=(df['diff_pct']+df.shift(1)['diff_pct']+df.shift(2)['diff_pct'])/3 ## and so on\r\n",
                "df"
            ],
            "outputs": [
                {
                    "output_type": "execute_result",
                    "data": {
                        "text/plain": [
                            "        date  sales  diff   lag  diff_pct  3_day_momentum\n",
                            "0 2020-01-01     22   NaN   NaN       NaN             NaN\n",
                            "1 2020-01-02     30   8.0  22.0  0.266667             NaN\n",
                            "2 2020-01-03     32   2.0  30.0  0.062500             NaN\n",
                            "3 2020-01-04     25  -7.0  32.0 -0.280000        0.016389\n",
                            "4 2020-01-05     42  17.0  25.0  0.404762        0.062421"
                        ],
                        "text/html": [
                            "<div>\n",
                            "<style scoped>\n",
                            "    .dataframe tbody tr th:only-of-type {\n",
                            "        vertical-align: middle;\n",
                            "    }\n",
                            "\n",
                            "    .dataframe tbody tr th {\n",
                            "        vertical-align: top;\n",
                            "    }\n",
                            "\n",
                            "    .dataframe thead th {\n",
                            "        text-align: right;\n",
                            "    }\n",
                            "</style>\n",
                            "<table border=\"1\" class=\"dataframe\">\n",
                            "  <thead>\n",
                            "    <tr style=\"text-align: right;\">\n",
                            "      <th></th>\n",
                            "      <th>date</th>\n",
                            "      <th>sales</th>\n",
                            "      <th>diff</th>\n",
                            "      <th>lag</th>\n",
                            "      <th>diff_pct</th>\n",
                            "      <th>3_day_momentum</th>\n",
                            "    </tr>\n",
                            "  </thead>\n",
                            "  <tbody>\n",
                            "    <tr>\n",
                            "      <th>0</th>\n",
                            "      <td>2020-01-01</td>\n",
                            "      <td>22</td>\n",
                            "      <td>NaN</td>\n",
                            "      <td>NaN</td>\n",
                            "      <td>NaN</td>\n",
                            "      <td>NaN</td>\n",
                            "    </tr>\n",
                            "    <tr>\n",
                            "      <th>1</th>\n",
                            "      <td>2020-01-02</td>\n",
                            "      <td>30</td>\n",
                            "      <td>8.0</td>\n",
                            "      <td>22.0</td>\n",
                            "      <td>0.266667</td>\n",
                            "      <td>NaN</td>\n",
                            "    </tr>\n",
                            "    <tr>\n",
                            "      <th>2</th>\n",
                            "      <td>2020-01-03</td>\n",
                            "      <td>32</td>\n",
                            "      <td>2.0</td>\n",
                            "      <td>30.0</td>\n",
                            "      <td>0.062500</td>\n",
                            "      <td>NaN</td>\n",
                            "    </tr>\n",
                            "    <tr>\n",
                            "      <th>3</th>\n",
                            "      <td>2020-01-04</td>\n",
                            "      <td>25</td>\n",
                            "      <td>-7.0</td>\n",
                            "      <td>32.0</td>\n",
                            "      <td>-0.280000</td>\n",
                            "      <td>0.016389</td>\n",
                            "    </tr>\n",
                            "    <tr>\n",
                            "      <th>4</th>\n",
                            "      <td>2020-01-05</td>\n",
                            "      <td>42</td>\n",
                            "      <td>17.0</td>\n",
                            "      <td>25.0</td>\n",
                            "      <td>0.404762</td>\n",
                            "      <td>0.062421</td>\n",
                            "    </tr>\n",
                            "  </tbody>\n",
                            "</table>\n",
                            "</div>"
                        ]
                    },
                    "metadata": {},
                    "execution_count": 62
                }
            ],
            "metadata": {}
        },
        {
            "cell_type": "code",
            "execution_count": 63,
            "source": [
                "#processin dates using pandas\r\n",
                "df.reset_index(inplace=True)\r\n",
                "df['year'] = df.date.dt.year\r\n"
            ],
            "outputs": [],
            "metadata": {}
        },
        {
            "cell_type": "code",
            "execution_count": 64,
            "source": [
                "df['month'] = df.date.dt.month\r\n",
                "df['day'] = df.date.dt.day\r\n",
                "df['day of week'] = df.date.dt.dayofweek\r\n",
                "\r\n"
            ],
            "outputs": [],
            "metadata": {}
        },
        {
            "cell_type": "code",
            "execution_count": 66,
            "source": [
                "df.head(10)"
            ],
            "outputs": [
                {
                    "output_type": "execute_result",
                    "data": {
                        "text/plain": [
                            "   index       date  sales  diff   lag  diff_pct  3_day_momentum  year  month  \\\n",
                            "0      0 2020-01-01     22   NaN   NaN       NaN             NaN  2020      1   \n",
                            "1      1 2020-01-02     30   8.0  22.0  0.266667             NaN  2020      1   \n",
                            "2      2 2020-01-03     32   2.0  30.0  0.062500             NaN  2020      1   \n",
                            "3      3 2020-01-04     25  -7.0  32.0 -0.280000        0.016389  2020      1   \n",
                            "4      4 2020-01-05     42  17.0  25.0  0.404762        0.062421  2020      1   \n",
                            "\n",
                            "   day  day of week  \n",
                            "0    1            2  \n",
                            "1    2            3  \n",
                            "2    3            4  \n",
                            "3    4            5  \n",
                            "4    5            6  "
                        ],
                        "text/html": [
                            "<div>\n",
                            "<style scoped>\n",
                            "    .dataframe tbody tr th:only-of-type {\n",
                            "        vertical-align: middle;\n",
                            "    }\n",
                            "\n",
                            "    .dataframe tbody tr th {\n",
                            "        vertical-align: top;\n",
                            "    }\n",
                            "\n",
                            "    .dataframe thead th {\n",
                            "        text-align: right;\n",
                            "    }\n",
                            "</style>\n",
                            "<table border=\"1\" class=\"dataframe\">\n",
                            "  <thead>\n",
                            "    <tr style=\"text-align: right;\">\n",
                            "      <th></th>\n",
                            "      <th>index</th>\n",
                            "      <th>date</th>\n",
                            "      <th>sales</th>\n",
                            "      <th>diff</th>\n",
                            "      <th>lag</th>\n",
                            "      <th>diff_pct</th>\n",
                            "      <th>3_day_momentum</th>\n",
                            "      <th>year</th>\n",
                            "      <th>month</th>\n",
                            "      <th>day</th>\n",
                            "      <th>day of week</th>\n",
                            "    </tr>\n",
                            "  </thead>\n",
                            "  <tbody>\n",
                            "    <tr>\n",
                            "      <th>0</th>\n",
                            "      <td>0</td>\n",
                            "      <td>2020-01-01</td>\n",
                            "      <td>22</td>\n",
                            "      <td>NaN</td>\n",
                            "      <td>NaN</td>\n",
                            "      <td>NaN</td>\n",
                            "      <td>NaN</td>\n",
                            "      <td>2020</td>\n",
                            "      <td>1</td>\n",
                            "      <td>1</td>\n",
                            "      <td>2</td>\n",
                            "    </tr>\n",
                            "    <tr>\n",
                            "      <th>1</th>\n",
                            "      <td>1</td>\n",
                            "      <td>2020-01-02</td>\n",
                            "      <td>30</td>\n",
                            "      <td>8.0</td>\n",
                            "      <td>22.0</td>\n",
                            "      <td>0.266667</td>\n",
                            "      <td>NaN</td>\n",
                            "      <td>2020</td>\n",
                            "      <td>1</td>\n",
                            "      <td>2</td>\n",
                            "      <td>3</td>\n",
                            "    </tr>\n",
                            "    <tr>\n",
                            "      <th>2</th>\n",
                            "      <td>2</td>\n",
                            "      <td>2020-01-03</td>\n",
                            "      <td>32</td>\n",
                            "      <td>2.0</td>\n",
                            "      <td>30.0</td>\n",
                            "      <td>0.062500</td>\n",
                            "      <td>NaN</td>\n",
                            "      <td>2020</td>\n",
                            "      <td>1</td>\n",
                            "      <td>3</td>\n",
                            "      <td>4</td>\n",
                            "    </tr>\n",
                            "    <tr>\n",
                            "      <th>3</th>\n",
                            "      <td>3</td>\n",
                            "      <td>2020-01-04</td>\n",
                            "      <td>25</td>\n",
                            "      <td>-7.0</td>\n",
                            "      <td>32.0</td>\n",
                            "      <td>-0.280000</td>\n",
                            "      <td>0.016389</td>\n",
                            "      <td>2020</td>\n",
                            "      <td>1</td>\n",
                            "      <td>4</td>\n",
                            "      <td>5</td>\n",
                            "    </tr>\n",
                            "    <tr>\n",
                            "      <th>4</th>\n",
                            "      <td>4</td>\n",
                            "      <td>2020-01-05</td>\n",
                            "      <td>42</td>\n",
                            "      <td>17.0</td>\n",
                            "      <td>25.0</td>\n",
                            "      <td>0.404762</td>\n",
                            "      <td>0.062421</td>\n",
                            "      <td>2020</td>\n",
                            "      <td>1</td>\n",
                            "      <td>5</td>\n",
                            "      <td>6</td>\n",
                            "    </tr>\n",
                            "  </tbody>\n",
                            "</table>\n",
                            "</div>"
                        ]
                    },
                    "metadata": {},
                    "execution_count": 66
                }
            ],
            "metadata": {}
        },
        {
            "cell_type": "code",
            "execution_count": 68,
            "source": [
                "#https://pandas.pydata.org/pandas-docs/stable/reference/api/pandas.Series.dt.quarter.html\r\n",
                "#add a few more\r\n",
                "df['Quarter'] = df.date.dt.quarter\r\n",
                "df.head(10)"
            ],
            "outputs": [
                {
                    "output_type": "execute_result",
                    "data": {
                        "text/plain": [
                            "   index       date  sales  diff   lag  diff_pct  3_day_momentum  year  month  \\\n",
                            "0      0 2020-01-01     22   NaN   NaN       NaN             NaN  2020      1   \n",
                            "1      1 2020-01-02     30   8.0  22.0  0.266667             NaN  2020      1   \n",
                            "2      2 2020-01-03     32   2.0  30.0  0.062500             NaN  2020      1   \n",
                            "3      3 2020-01-04     25  -7.0  32.0 -0.280000        0.016389  2020      1   \n",
                            "4      4 2020-01-05     42  17.0  25.0  0.404762        0.062421  2020      1   \n",
                            "\n",
                            "   day  day of week  Quarter  \n",
                            "0    1            2        1  \n",
                            "1    2            3        1  \n",
                            "2    3            4        1  \n",
                            "3    4            5        1  \n",
                            "4    5            6        1  "
                        ],
                        "text/html": [
                            "<div>\n",
                            "<style scoped>\n",
                            "    .dataframe tbody tr th:only-of-type {\n",
                            "        vertical-align: middle;\n",
                            "    }\n",
                            "\n",
                            "    .dataframe tbody tr th {\n",
                            "        vertical-align: top;\n",
                            "    }\n",
                            "\n",
                            "    .dataframe thead th {\n",
                            "        text-align: right;\n",
                            "    }\n",
                            "</style>\n",
                            "<table border=\"1\" class=\"dataframe\">\n",
                            "  <thead>\n",
                            "    <tr style=\"text-align: right;\">\n",
                            "      <th></th>\n",
                            "      <th>index</th>\n",
                            "      <th>date</th>\n",
                            "      <th>sales</th>\n",
                            "      <th>diff</th>\n",
                            "      <th>lag</th>\n",
                            "      <th>diff_pct</th>\n",
                            "      <th>3_day_momentum</th>\n",
                            "      <th>year</th>\n",
                            "      <th>month</th>\n",
                            "      <th>day</th>\n",
                            "      <th>day of week</th>\n",
                            "      <th>Quarter</th>\n",
                            "    </tr>\n",
                            "  </thead>\n",
                            "  <tbody>\n",
                            "    <tr>\n",
                            "      <th>0</th>\n",
                            "      <td>0</td>\n",
                            "      <td>2020-01-01</td>\n",
                            "      <td>22</td>\n",
                            "      <td>NaN</td>\n",
                            "      <td>NaN</td>\n",
                            "      <td>NaN</td>\n",
                            "      <td>NaN</td>\n",
                            "      <td>2020</td>\n",
                            "      <td>1</td>\n",
                            "      <td>1</td>\n",
                            "      <td>2</td>\n",
                            "      <td>1</td>\n",
                            "    </tr>\n",
                            "    <tr>\n",
                            "      <th>1</th>\n",
                            "      <td>1</td>\n",
                            "      <td>2020-01-02</td>\n",
                            "      <td>30</td>\n",
                            "      <td>8.0</td>\n",
                            "      <td>22.0</td>\n",
                            "      <td>0.266667</td>\n",
                            "      <td>NaN</td>\n",
                            "      <td>2020</td>\n",
                            "      <td>1</td>\n",
                            "      <td>2</td>\n",
                            "      <td>3</td>\n",
                            "      <td>1</td>\n",
                            "    </tr>\n",
                            "    <tr>\n",
                            "      <th>2</th>\n",
                            "      <td>2</td>\n",
                            "      <td>2020-01-03</td>\n",
                            "      <td>32</td>\n",
                            "      <td>2.0</td>\n",
                            "      <td>30.0</td>\n",
                            "      <td>0.062500</td>\n",
                            "      <td>NaN</td>\n",
                            "      <td>2020</td>\n",
                            "      <td>1</td>\n",
                            "      <td>3</td>\n",
                            "      <td>4</td>\n",
                            "      <td>1</td>\n",
                            "    </tr>\n",
                            "    <tr>\n",
                            "      <th>3</th>\n",
                            "      <td>3</td>\n",
                            "      <td>2020-01-04</td>\n",
                            "      <td>25</td>\n",
                            "      <td>-7.0</td>\n",
                            "      <td>32.0</td>\n",
                            "      <td>-0.280000</td>\n",
                            "      <td>0.016389</td>\n",
                            "      <td>2020</td>\n",
                            "      <td>1</td>\n",
                            "      <td>4</td>\n",
                            "      <td>5</td>\n",
                            "      <td>1</td>\n",
                            "    </tr>\n",
                            "    <tr>\n",
                            "      <th>4</th>\n",
                            "      <td>4</td>\n",
                            "      <td>2020-01-05</td>\n",
                            "      <td>42</td>\n",
                            "      <td>17.0</td>\n",
                            "      <td>25.0</td>\n",
                            "      <td>0.404762</td>\n",
                            "      <td>0.062421</td>\n",
                            "      <td>2020</td>\n",
                            "      <td>1</td>\n",
                            "      <td>5</td>\n",
                            "      <td>6</td>\n",
                            "      <td>1</td>\n",
                            "    </tr>\n",
                            "  </tbody>\n",
                            "</table>\n",
                            "</div>"
                        ]
                    },
                    "metadata": {},
                    "execution_count": 68
                }
            ],
            "metadata": {}
        },
        {
            "cell_type": "code",
            "execution_count": 70,
            "source": [
                "##function lag\r\n",
                "## custom lag \r\n",
                "## WeekOfMonth\r\n",
                "## Pandas version\r\n",
                "print(pd.__version__)\r\n",
                "#df['WeekOfMonth'] = df.date.dt.WeekOfMonth\r\n",
                "##make sure 1.33 or higher for this\r\n",
                "df.head(10)\r\n",
                "\r\n",
                "\r\n"
            ],
            "outputs": [
                {
                    "output_type": "stream",
                    "name": "stdout",
                    "text": [
                        "1.1.4\n"
                    ]
                },
                {
                    "output_type": "execute_result",
                    "data": {
                        "text/plain": [
                            "   index       date  sales  diff   lag  diff_pct  3_day_momentum  year  month  \\\n",
                            "0      0 2020-01-01     22   NaN   NaN       NaN             NaN  2020      1   \n",
                            "1      1 2020-01-02     30   8.0  22.0  0.266667             NaN  2020      1   \n",
                            "2      2 2020-01-03     32   2.0  30.0  0.062500             NaN  2020      1   \n",
                            "3      3 2020-01-04     25  -7.0  32.0 -0.280000        0.016389  2020      1   \n",
                            "4      4 2020-01-05     42  17.0  25.0  0.404762        0.062421  2020      1   \n",
                            "\n",
                            "   day  day of week  Quarter  \n",
                            "0    1            2        1  \n",
                            "1    2            3        1  \n",
                            "2    3            4        1  \n",
                            "3    4            5        1  \n",
                            "4    5            6        1  "
                        ],
                        "text/html": [
                            "<div>\n",
                            "<style scoped>\n",
                            "    .dataframe tbody tr th:only-of-type {\n",
                            "        vertical-align: middle;\n",
                            "    }\n",
                            "\n",
                            "    .dataframe tbody tr th {\n",
                            "        vertical-align: top;\n",
                            "    }\n",
                            "\n",
                            "    .dataframe thead th {\n",
                            "        text-align: right;\n",
                            "    }\n",
                            "</style>\n",
                            "<table border=\"1\" class=\"dataframe\">\n",
                            "  <thead>\n",
                            "    <tr style=\"text-align: right;\">\n",
                            "      <th></th>\n",
                            "      <th>index</th>\n",
                            "      <th>date</th>\n",
                            "      <th>sales</th>\n",
                            "      <th>diff</th>\n",
                            "      <th>lag</th>\n",
                            "      <th>diff_pct</th>\n",
                            "      <th>3_day_momentum</th>\n",
                            "      <th>year</th>\n",
                            "      <th>month</th>\n",
                            "      <th>day</th>\n",
                            "      <th>day of week</th>\n",
                            "      <th>Quarter</th>\n",
                            "    </tr>\n",
                            "  </thead>\n",
                            "  <tbody>\n",
                            "    <tr>\n",
                            "      <th>0</th>\n",
                            "      <td>0</td>\n",
                            "      <td>2020-01-01</td>\n",
                            "      <td>22</td>\n",
                            "      <td>NaN</td>\n",
                            "      <td>NaN</td>\n",
                            "      <td>NaN</td>\n",
                            "      <td>NaN</td>\n",
                            "      <td>2020</td>\n",
                            "      <td>1</td>\n",
                            "      <td>1</td>\n",
                            "      <td>2</td>\n",
                            "      <td>1</td>\n",
                            "    </tr>\n",
                            "    <tr>\n",
                            "      <th>1</th>\n",
                            "      <td>1</td>\n",
                            "      <td>2020-01-02</td>\n",
                            "      <td>30</td>\n",
                            "      <td>8.0</td>\n",
                            "      <td>22.0</td>\n",
                            "      <td>0.266667</td>\n",
                            "      <td>NaN</td>\n",
                            "      <td>2020</td>\n",
                            "      <td>1</td>\n",
                            "      <td>2</td>\n",
                            "      <td>3</td>\n",
                            "      <td>1</td>\n",
                            "    </tr>\n",
                            "    <tr>\n",
                            "      <th>2</th>\n",
                            "      <td>2</td>\n",
                            "      <td>2020-01-03</td>\n",
                            "      <td>32</td>\n",
                            "      <td>2.0</td>\n",
                            "      <td>30.0</td>\n",
                            "      <td>0.062500</td>\n",
                            "      <td>NaN</td>\n",
                            "      <td>2020</td>\n",
                            "      <td>1</td>\n",
                            "      <td>3</td>\n",
                            "      <td>4</td>\n",
                            "      <td>1</td>\n",
                            "    </tr>\n",
                            "    <tr>\n",
                            "      <th>3</th>\n",
                            "      <td>3</td>\n",
                            "      <td>2020-01-04</td>\n",
                            "      <td>25</td>\n",
                            "      <td>-7.0</td>\n",
                            "      <td>32.0</td>\n",
                            "      <td>-0.280000</td>\n",
                            "      <td>0.016389</td>\n",
                            "      <td>2020</td>\n",
                            "      <td>1</td>\n",
                            "      <td>4</td>\n",
                            "      <td>5</td>\n",
                            "      <td>1</td>\n",
                            "    </tr>\n",
                            "    <tr>\n",
                            "      <th>4</th>\n",
                            "      <td>4</td>\n",
                            "      <td>2020-01-05</td>\n",
                            "      <td>42</td>\n",
                            "      <td>17.0</td>\n",
                            "      <td>25.0</td>\n",
                            "      <td>0.404762</td>\n",
                            "      <td>0.062421</td>\n",
                            "      <td>2020</td>\n",
                            "      <td>1</td>\n",
                            "      <td>5</td>\n",
                            "      <td>6</td>\n",
                            "      <td>1</td>\n",
                            "    </tr>\n",
                            "  </tbody>\n",
                            "</table>\n",
                            "</div>"
                        ]
                    },
                    "metadata": {},
                    "execution_count": 70
                }
            ],
            "metadata": {}
        },
        {
            "cell_type": "code",
            "execution_count": 71,
            "source": [
                "def weekinmonth(dates):\r\n",
                "    \"\"\"Get week number in a month.\r\n",
                "    \r\n",
                "    Parameters: \r\n",
                "        dates (pd.Series): Series of dates.\r\n",
                "    Returns: \r\n",
                "        pd.Series: Week number in a month.\r\n",
                "    \"\"\"\r\n",
                "    firstday_in_month = dates - pd.to_timedelta(dates.dt.day - 1, unit='d')\r\n",
                "    return (dates.dt.day-1 + firstday_in_month.dt.weekday) // 7 + 1\r\n",
                "\r\n",
                "\r\n"
            ],
            "outputs": [],
            "metadata": {}
        },
        {
            "cell_type": "code",
            "execution_count": 79,
            "source": [
                "##returns a series not a value see above apply returns a value\r\n",
                "\r\n",
                "df['weekinmonth']=weekinmonth(df['date'])\r\n",
                "\r\n"
            ],
            "outputs": [],
            "metadata": {}
        }
    ],
    "metadata": {
        "orig_nbformat": 4,
        "language_info": {
            "name": "python",
            "version": "3.6.11",
            "mimetype": "text/x-python",
            "codemirror_mode": {
                "name": "ipython",
                "version": 3
            },
            "pygments_lexer": "ipython3",
            "nbconvert_exporter": "python",
            "file_extension": ".py"
        },
        "kernelspec": {
            "name": "python3",
            "display_name": "Python 3.6.11 64-bit (conda)"
        },
        "interpreter": {
            "hash": "5e53e5e72011e9ab104dcf7fe60a23803dfbd5cdc0f9c098b2159a1674a399e0"
        }
    },
    "nbformat": 4,
    "nbformat_minor": 2
}